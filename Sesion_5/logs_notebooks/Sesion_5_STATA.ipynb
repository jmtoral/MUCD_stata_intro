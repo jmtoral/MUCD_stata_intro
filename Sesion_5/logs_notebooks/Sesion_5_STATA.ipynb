{
 "cells": [
  {
   "cell_type": "markdown",
   "id": "85ac4594",
   "metadata": {},
   "source": [
    "# Sesión 5 de Stata\n",
    "\n",
    "Estoy probando esta nueva interacción de *Jupyter Notebooks* con *Stata* para poder trabajar de manera más cómoda (como un ser humano). \n",
    "\n",
    "La idea de esta sesión es trabajar dos tipo de transformación que cambian la naturaleza misma de la tabla al reacomodar su estructura:  `collapse` y `reshape`. El uso de estos comandos cambia **por completo** su tabla (base de datos)."
   ]
  },
  {
   "cell_type": "markdown",
   "id": "7e2f76e7",
   "metadata": {},
   "source": [
    "## Setup\n",
    "\n",
    "Como siempre, haremos un *do file* con su respectivo setup y nuestro (ahora obsoleto) *log*."
   ]
  },
  {
   "cell_type": "code",
   "execution_count": 1,
   "id": "d73df376",
   "metadata": {},
   "outputs": [
    {
     "name": "stdout",
     "output_type": "stream",
     "text": [
      "\n",
      "C:\\Users\\User\\Documents\\MUCD_stata_intro\\Sesion_5\n",
      "\n",
      "--------------------------------------------------------------------------------\n",
      "      name:  sesion5\n",
      "       log:  C:\\Users\\User\\Documents\\MUCD_stata_intro\\Sesion_5\\logs_notebooks\\lo\n",
      "> g_sesion5.smcl\n",
      "  log type:  text\n",
      " opened on:  29 Jul 2022, 10:21:22\n"
     ]
    }
   ],
   "source": [
    "*=====================================================================\n",
    "\n",
    "// PROYECTO: Quinta introductoria a STATA\n",
    "// PROGRAMA: sesion_5.do\n",
    "// TAREA: De long a wide\n",
    "// CREADO POR: Manuel Toral\n",
    "// FECHA DE CREACIÓN: 2022-07-28\n",
    "// FECHA DE ACTUALIZACIÓN: 2022-07-28\n",
    "\n",
    "*========================================================================\n",
    "cd \"C:\\Users\\User\\Documents\\MUCD_stata_intro\\Sesion_5\"\n",
    "log using \"logs_notebooks\\log_sesion5.smcl\", text replace name(sesion5)"
   ]
  },
  {
   "cell_type": "markdown",
   "id": "835de696",
   "metadata": {},
   "source": [
    "# Datos\n",
    "\n",
    "Vamos a usar los datos de incidencia delictiva del Secretariado, para no perder la costumbre."
   ]
  },
  {
   "cell_type": "code",
   "execution_count": 18,
   "id": "f85a901d",
   "metadata": {},
   "outputs": [
    {
     "name": "stdout",
     "output_type": "stream",
     "text": [
      "(19 vars, 25,088 obs)\n"
     ]
    }
   ],
   "source": [
    "// 1. Datos\n",
    "import delimited \"data\\IDEFC_NM_jun22.csv\", clear"
   ]
  },
  {
   "cell_type": "markdown",
   "id": "ec1c8d3e",
   "metadata": {},
   "source": [
    "Ante de continuar, podemos observar cómo la tabla tiene una estructura *horizontal* (*wide*) que tiene columnas con información *del mismo tipo* repartidas por varias variables. Es decir, si vemos la primer fila, las variables `enero` y `febrero` contienen números que son de la misma naturaleza y son consistentes entre sí: el número de homicidios dolosos con arma de fuego."
   ]
  },
  {
   "cell_type": "code",
   "execution_count": 3,
   "id": "373998df",
   "metadata": {},
   "outputs": [
    {
     "name": "stdout",
     "output_type": "stream",
     "text": [
      "\n",
      "     +---------------------------------------------------------------------+\n",
      "  1. |  año | clave_~t |        entidad |             bienjurídicoafectado |\n",
      "     | 2015 |        1 | Aguascalientes | La vida y la Integridad corporal |\n",
      "     |---------------------------------------------------------------------|\n",
      "     | tipoded~o |  subtipodedelito |         modalidad | enero | febrero  |\n",
      "     | Homicidio | Homicidio doloso | Con arma de fuego |     3 |       0  |\n",
      "     |------------------------------+---------------------------+----------|\n",
      "     | marzo | abril | mayo | junio | julio | agosto | septie~e | octubre  |\n",
      "     |     2 |     1 |    1 |     1 |     2 |      1 |        2 |       2  |\n",
      "     |---------------------------------------------------------------------|\n",
      "     |             noviem~e             |             diciem~e             |\n",
      "     |                    2             |                    1             |\n",
      "     +---------------------------------------------------------------------+\n"
     ]
    }
   ],
   "source": [
    "list in 1"
   ]
  },
  {
   "cell_type": "markdown",
   "id": "8b858c84",
   "metadata": {},
   "source": [
    "Y esta estructura está muy bien para cuando necesitamos estudiar un tipo de fenómeno, pero justo una de las ventajas de la tabla de incidencia delictiva es que nos permite hacer **comparaciones en el tiempo**. Por lo que el reto es hacer *una sola variable* que agrupe los números comparables."
   ]
  },
  {
   "cell_type": "markdown",
   "id": "3ce5130a",
   "metadata": {},
   "source": [
    "# Colapsar\n",
    "\n",
    "Pero antes, para facilitarnos la vida, vamos a hacer un colapso. Esto nos va a permitir utilizar la información que necesitamos y no más. La idea de \"colapsar\" es agregar. Es decir, como su nombre lo indica, colapsar la estructura de nuestra tabla en formas más simples a través de operaciones aritméticas. \n",
    "\n",
    "Vamos a resolver esta pregunta, una que casi nadie se hace en México: *¿Cómo se comportan los homicidios dolosos con arma de fuero en el tiempo?*\n",
    "\n",
    "Como pueden ver en la documentación, `collapse` tiene una estructura como esta:\n",
    "\n",
    "> `collapse variable1 variable2 by(grupo)`\n",
    "\n",
    "En español podría ser: *colapsa la estrctura de esta tabla con base en la \"variable 1\" y la \"variable 2\", pero conserva los grupos de la variable \"grupo\"*.\n",
    "\n",
    "Entonces, la instrucción para resolver la pregunta que acabamos de plantear tendría que ser de la siguiente forma (en español):\n",
    "1. *conserva sólo aquellas observaciones que se tengan como subtipo de delito \"Homicidio doloso\" y como modalidad \"con arma de fuego\".*\n",
    "2. *colapsa la estrctura de IDEFC_NM_jun22 con base en las variables de \"enero\" a \"diciembre\", pero conserva los grupos de la variable \"año\"*. "
   ]
  },
  {
   "cell_type": "code",
   "execution_count": 19,
   "id": "7d81ce71",
   "metadata": {},
   "outputs": [
    {
     "name": "stdout",
     "output_type": "stream",
     "text": [
      "\n",
      "\n",
      "\n",
      "\n",
      "Contains data\n",
      "  obs:           256                          \n",
      " vars:            19                          \n",
      "--------------------------------------------------------------------------------\n",
      "              storage   display    value\n",
      "variable name   type    format     label      variable label\n",
      "--------------------------------------------------------------------------------\n",
      "año             int     %8.0g                 Año\n",
      "clave_ent       byte    %8.0g                 Clave_Ent\n",
      "entidad         str31   %31s                  Entidad\n",
      "bienjurídicoa~o str52   %52s                  Bien jurídico afectado\n",
      "tipodedelito    str78   %78s                  Tipo de delito\n",
      "subtipodedelito str78   %78s                  Subtipo de delito\n",
      "modalidad       str84   %84s                  Modalidad\n",
      "enero           int     %8.0g                 Enero\n",
      "febrero         int     %8.0g                 Febrero\n",
      "marzo           int     %8.0g                 Marzo\n",
      "abril           int     %8.0g                 Abril\n",
      "mayo            int     %8.0g                 Mayo\n",
      "junio           int     %8.0g                 Junio\n",
      "julio           int     %8.0g                 Julio\n",
      "agosto          int     %8.0g                 Agosto\n",
      "septiembre      int     %8.0g                 Septiembre\n",
      "octubre         int     %8.0g                 Octubre\n",
      "noviembre       int     %8.0g                 Noviembre\n",
      "diciembre       int     %8.0g                 Diciembre\n",
      "--------------------------------------------------------------------------------\n",
      "Sorted by: \n",
      "     Note: Dataset has changed since last saved.\n",
      "\n",
      "\n",
      "                              Modalidad |      Freq.     Percent        Cum.\n",
      "----------------------------------------+-----------------------------------\n",
      "                      Con arma de fuego |        256      100.00      100.00\n",
      "----------------------------------------+-----------------------------------\n",
      "                                  Total |        256      100.00\n",
      "\n",
      "\n",
      "                      Subtipo de delito |      Freq.     Percent        Cum.\n",
      "----------------------------------------+-----------------------------------\n",
      "                       Homicidio doloso |        256      100.00      100.00\n",
      "----------------------------------------+-----------------------------------\n",
      "                                  Total |        256      100.00\n"
     ]
    }
   ],
   "source": [
    "// 2. Transformaciones y limpieza\n",
    "\n",
    "\n",
    "// 2.1 Conserva sólo el subtipo de delito y modalidad que definen \"Homicidio doloso con arema de fuego\"\n",
    "\n",
    "keep if subtipodedelito == \"Homicidio doloso\" & modalidad == \"Con arma de fuego\"\n",
    "\n",
    "d\n",
    "tab modalidad\n",
    "tab subtipodedelito\n"
   ]
  },
  {
   "cell_type": "code",
   "execution_count": 20,
   "id": "3028bb9a",
   "metadata": {},
   "outputs": [
    {
     "name": "stdout",
     "output_type": "stream",
     "text": [
      "\n",
      "\n",
      "\n",
      "Contains data\n",
      "  obs:             8                          \n",
      " vars:            13                          \n",
      "--------------------------------------------------------------------------------\n",
      "              storage   display    value\n",
      "variable name   type    format     label      variable label\n",
      "--------------------------------------------------------------------------------\n",
      "año             int     %8.0g                 Año\n",
      "enero           double  %8.0g                 (sum) enero\n",
      "febrero         double  %8.0g                 (sum) febrero\n",
      "marzo           double  %8.0g                 (sum) marzo\n",
      "abril           double  %8.0g                 (sum) abril\n",
      "mayo            double  %8.0g                 (sum) mayo\n",
      "junio           double  %8.0g                 (sum) junio\n",
      "julio           double  %8.0g                 (sum) julio\n",
      "agosto          double  %8.0g                 (sum) agosto\n",
      "septiembre      double  %8.0g                 (sum) septiembre\n",
      "octubre         double  %8.0g                 (sum) octubre\n",
      "noviembre       double  %8.0g                 (sum) noviembre\n",
      "diciembre       double  %8.0g                 (sum) diciembre\n",
      "--------------------------------------------------------------------------------\n",
      "Sorted by: año\n",
      "     Note: Dataset has changed since last saved.\n",
      "\n",
      "\n",
      "     +------------------------------------------------------------------------+\n",
      "  1. |  año | enero | febrero | marzo | abril | mayo | junio | julio | agosto |\n",
      "     | 2015 |   679 |     702 |   684 |   734 |  816 |   751 |   756 |    865 |\n",
      "     |------------------------------------------------------------------------|\n",
      "     |    septie~e     |    octubre     |     noviem~e     |     diciem~e     |\n",
      "     |         776     |        794     |          859     |          793     |\n",
      "     +------------------------------------------------------------------------+\n",
      "\n",
      "     +------------------------------------------------------------------------+\n",
      "  2. |  año | enero | febrero | marzo | abril | mayo | junio | julio | agosto |\n",
      "     | 2016 |   884 |     842 |   901 |   853 | 1001 |   959 |  1151 |   1217 |\n",
      "     |------------------------------------------------------------------------|\n",
      "     |    septie~e     |    octubre     |     noviem~e     |     diciem~e     |\n",
      "     |        1198     |       1139     |         1188     |         1145     |\n",
      "     +------------------------------------------------------------------------+\n",
      "\n",
      "     +------------------------------------------------------------------------+\n",
      "  3. |  año | enero | febrero | marzo | abril | mayo | junio | julio | agosto |\n",
      "     | 2017 |  1296 |    1220 |  1278 |  1275 | 1437 |  1474 |  1355 |   1394 |\n",
      "     |------------------------------------------------------------------------|\n",
      "     |    septie~e     |    octubre     |     noviem~e     |     diciem~e     |\n",
      "     |        1468     |       1647     |         1504     |         1543     |\n",
      "     +------------------------------------------------------------------------+\n",
      "\n",
      "     +------------------------------------------------------------------------+\n",
      "  4. |  año | enero | febrero | marzo | abril | mayo | junio | julio | agosto |\n",
      "     | 2018 |  1511 |    1410 |  1626 |  1632 | 1700 |  1635 |  1788 |   1765 |\n",
      "     |------------------------------------------------------------------------|\n",
      "     |    septie~e     |    octubre     |     noviem~e     |     diciem~e     |\n",
      "     |        1770     |       1727     |         1697     |         1816     |\n",
      "     +------------------------------------------------------------------------+\n",
      "\n",
      "     +------------------------------------------------------------------------+\n",
      "  5. |  año | enero | febrero | marzo | abril | mayo | junio | julio | agosto |\n",
      "     | 2019 |  1776 |    1722 |  1658 |  1614 | 1722 |  1813 |  1803 |   1704 |\n",
      "     |------------------------------------------------------------------------|\n",
      "     |    septie~e     |    octubre     |     noviem~e     |     diciem~e     |\n",
      "     |        1621     |       1685     |         1739     |         1670     |\n",
      "     +------------------------------------------------------------------------+\n",
      "\n",
      "     +------------------------------------------------------------------------+\n",
      "  6. |  año | enero | febrero | marzo | abril | mayo | junio | julio | agosto |\n",
      "     | 2020 |  1736 |    1643 |  1881 |  1789 | 1720 |  1668 |  1748 |   1693 |\n",
      "     |------------------------------------------------------------------------|\n",
      "     |    septie~e     |    octubre     |     noviem~e     |     diciem~e     |\n",
      "     |        1592     |       1633     |         1558     |         1556     |\n",
      "     +------------------------------------------------------------------------+\n",
      "\n",
      "     +------------------------------------------------------------------------+\n",
      "  7. |  año | enero | febrero | marzo | abril | mayo | junio | julio | agosto |\n",
      "     | 2021 |  1655 |    1529 |  1713 |  1637 | 1737 |  1489 |  1598 |   1718 |\n",
      "     |------------------------------------------------------------------------|\n",
      "     |    septie~e     |    octubre     |     noviem~e     |     diciem~e     |\n",
      "     |        1588     |       1671     |         1441     |         1594     |\n",
      "     +------------------------------------------------------------------------+\n",
      "\n",
      "     +------------------------------------------------------------------------+\n",
      "  8. |  año | enero | febrero | marzo | abril | mayo | junio | julio | agosto |\n",
      "     | 2022 |  1468 |    1366 |  1543 |  1479 | 1621 |  1542 |     0 |      0 |\n",
      "     |------------------------------------------------------------------------|\n",
      "     |    septie~e     |    octubre     |     noviem~e     |     diciem~e     |\n",
      "     |           0     |          0     |            0     |            0     |\n",
      "     +------------------------------------------------------------------------+\n"
     ]
    }
   ],
   "source": [
    "collapse (sum) enero-diciembre, by(año)\n",
    "d\n",
    "list"
   ]
  },
  {
   "cell_type": "code",
   "execution_count": 21,
   "id": "76fb44b0",
   "metadata": {},
   "outputs": [
    {
     "name": "stdout",
     "output_type": "stream",
     "text": [
      "\n",
      "\n",
      "\n",
      "(note: j = 1 2 3 4 5 6 7 8 9 10 11 12)\n",
      "\n",
      "\n",
      "-----------------------------------------------------------------------------\n",
      "Number of obs.                        8   ->      96\n",
      "Number of variables                  14   ->       4\n",
      "j variable (12 values)                    ->   mes\n",
      "xij variables:\n",
      "\n",
      "-----------------------------------------------------------------------------\n",
      "\n",
      "\n",
      "Contains data\n",
      "  obs:            96                          \n",
      " vars:             4                          \n",
      "--------------------------------------------------------------------------------\n",
      "              storage   display    value\n",
      "variable name   type    format     label      variable label\n",
      "--------------------------------------------------------------------------------\n",
      "id              float   %9.0g                 \n",
      "mes             byte    %9.0g                 \n",
      "año             int     %8.0g                 Año\n",
      "homicidios      double  %8.0g                 \n",
      "--------------------------------------------------------------------------------\n",
      "Sorted by: id  mes\n",
      "     Note: Dataset has changed since last saved.\n"
     ]
    }
   ],
   "source": [
    "// 3. Convertir de wide a long\n",
    "\n",
    "rename (enero-diciembre) (homicidios(#)) ,addnumber\n",
    "\n",
    "gen id = _n\n",
    "\n",
    "reshape long homicidios, i(id) j(mes)\n",
    "\n",
    "d\n",
    "\n",
    "//reshape wide homicidios, i(id) j(mes)\n",
    "\n",
    "//d\n"
   ]
  },
  {
   "cell_type": "code",
   "execution_count": 23,
   "id": "bc81c5f5",
   "metadata": {},
   "outputs": [
    {
     "name": "stdout",
     "output_type": "stream",
     "text": [
      "variable dia already defined\n"
     ]
    },
    {
     "name": "stderr",
     "output_type": "stream",
     "text": [
      "r(110);\n"
     ]
    },
    {
     "name": "stdout",
     "output_type": "stream",
     "text": [
      "\n"
     ]
    }
   ],
   "source": [
    "gen dia = 1"
   ]
  },
  {
   "cell_type": "code",
   "execution_count": null,
   "id": "6d5607bd",
   "metadata": {},
   "outputs": [],
   "source": [
    "egen fecha = concat(mes, \"1\" )"
   ]
  },
  {
   "cell_type": "code",
   "execution_count": null,
   "id": "a0ae2650",
   "metadata": {},
   "outputs": [],
   "source": [
    "%browse"
   ]
  },
  {
   "cell_type": "code",
   "execution_count": 7,
   "id": "6f2d232c",
   "metadata": {},
   "outputs": [
    {
     "name": "stdout",
     "output_type": "stream",
     "text": [
      "      name:  sesion5\n",
      "       log:  C:\\Users\\User\\Documents\\MUCD_stata_intro\\Sesion_5\\logs_notebooks\\lo\n",
      "> g_sesion5.smcl\n",
      "  log type:  text\n",
      " closed on:  29 Jul 2022, 10:07:10\n",
      "--------------------------------------------------------------------------------\n"
     ]
    }
   ],
   "source": [
    "log close sesion5"
   ]
  }
 ],
 "metadata": {
  "kernelspec": {
   "display_name": "Stata",
   "language": "stata",
   "name": "stata"
  },
  "language_info": {
   "codemirror_mode": "stata",
   "file_extension": ".do",
   "mimetype": "text/x-stata",
   "name": "stata",
   "version": "15.1"
  }
 },
 "nbformat": 4,
 "nbformat_minor": 5
}
