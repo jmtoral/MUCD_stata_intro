{
 "cells": [
  {
   "cell_type": "code",
   "execution_count": 2,
   "id": "78e95cf2",
   "metadata": {},
   "outputs": [
    {
     "name": "stdout",
     "output_type": "stream",
     "text": [
      "C:\\Users\\User\\Documents\\MUCD_stata_intro\\Sesion_7\n"
     ]
    }
   ],
   "source": [
    "*=====================================================================\n",
    "\n",
    "// PROYECTO: Séptima introductoria a STATA\n",
    "// PROGRAMA: sesion_7.do\n",
    "// TAREA: Mapas!\n",
    "// CREADO POR: Manuel Toral\n",
    "// FECHA DE CREACIÓN: 2022-08-03\n",
    "// FECHA DE ACTUALIZACIÓN: 2022-08-03\n",
    "\n",
    "*========================================================================\n",
    "\n",
    "\n",
    "cd \"C:\\Users\\User\\Documents\\MUCD_stata_intro\\Sesion_7\"\n"
   ]
  },
  {
   "cell_type": "code",
   "execution_count": 5,
   "id": "9c6e43d0",
   "metadata": {},
   "outputs": [
    {
     "name": "stdout",
     "output_type": "stream",
     "text": [
      "\n",
      "checking spmap consistency and verifying not already installed...\n",
      "all files already exist and are up to date.\n",
      "\n",
      "checking shp2dta consistency and verifying not already installed...\n",
      "all files already exist and are up to date.\n",
      "\n",
      "checking geo2xy consistency and verifying not already installed...\n",
      "all files already exist and are up to date.\n",
      "\n",
      "ssc install: \"spshape2dta\" not found at SSC, type search spshape2dta\n",
      "(To find all packages at SSC that start with s, type ssc describe s)\n"
     ]
    },
    {
     "name": "stderr",
     "output_type": "stream",
     "text": [
      "r(601);\n",
      "r(601);\n"
     ]
    },
    {
     "name": "stdout",
     "output_type": "stream",
     "text": [
      "\n",
      "\n"
     ]
    }
   ],
   "source": [
    "ssc install spmap    // for the maps package\n",
    "ssc install shp2dta  // shapefiles to dta. For versions < v15.\n",
    "ssc install geo2xy   // for fixing the coordinate system"
   ]
  },
  {
   "cell_type": "code",
   "execution_count": 4,
   "id": "bdc743e7",
   "metadata": {},
   "outputs": [],
   "source": [
    "copy https://geodata.ucdavis.edu/gadm/gadm4.1/shp/gadm41_MEX_shp.zip ///\n",
    "    data\\gadm41_MEX_shp.zip"
   ]
  },
  {
   "cell_type": "code",
   "execution_count": 8,
   "id": "71132cb5",
   "metadata": {},
   "outputs": [
    {
     "name": "stdout",
     "output_type": "stream",
     "text": [
      "    inflating: gadm41_MEX_0.cpg\n",
      "    inflating: gadm41_MEX_0.dbf\n",
      "    inflating: gadm41_MEX_0.prj\n",
      "    inflating: gadm41_MEX_0.shp\n",
      "    inflating: gadm41_MEX_0.shx\n",
      "    inflating: gadm41_MEX_1.cpg\n",
      "    inflating: gadm41_MEX_1.dbf\n",
      "    inflating: gadm41_MEX_1.prj\n",
      "    inflating: gadm41_MEX_1.shp\n",
      "    inflating: gadm41_MEX_1.shx\n",
      "    inflating: gadm41_MEX_2.cpg\n",
      "    inflating: gadm41_MEX_2.dbf\n",
      "    inflating: gadm41_MEX_2.prj\n",
      "    inflating: gadm41_MEX_2.shp\n",
      "    inflating: gadm41_MEX_2.shx\n",
      "\n",
      "successfully unzipped data\\gadm41_MEX_shp.zip to current directory\n",
      "total processed:  15\n",
      "        skipped:  0\n",
      "      extracted:  15\n"
     ]
    }
   ],
   "source": [
    "unzipfile data\\gadm41_MEX_shp.zip"
   ]
  },
  {
   "cell_type": "code",
   "execution_count": 10,
   "id": "d28ac2b1",
   "metadata": {},
   "outputs": [
    {
     "name": "stdout",
     "output_type": "stream",
     "text": [
      "  (importing .shp file)\n",
      "  (importing .dbf file)\n",
      "  (creating _ID spatial-unit id)\n",
      "  (creating _CX coordinate)\n",
      "  (creating _CY coordinate)\n",
      "\n",
      "  file estados_shp.dta created\n",
      "  file estados.dta     created\n"
     ]
    }
   ],
   "source": [
    "spshape2dta gadm41_MEX_1.shp, saving(estados) replace"
   ]
  },
  {
   "cell_type": "code",
   "execution_count": 5,
   "id": "dc630859",
   "metadata": {},
   "outputs": [],
   "source": [
    "use estados, clear\n",
    " ren NAME_1 name_1             "
   ]
  },
  {
   "cell_type": "code",
   "execution_count": 7,
   "id": "f0adbf8a",
   "metadata": {},
   "outputs": [],
   "source": [
    "*** the first map\n",
    "spmap using estados_shp, id(_ID)"
   ]
  }
 ],
 "metadata": {
  "kernelspec": {
   "display_name": "Stata",
   "language": "stata",
   "name": "stata"
  },
  "language_info": {
   "codemirror_mode": "stata",
   "file_extension": ".do",
   "mimetype": "text/x-stata",
   "name": "stata",
   "version": "15.1"
  }
 },
 "nbformat": 4,
 "nbformat_minor": 5
}
