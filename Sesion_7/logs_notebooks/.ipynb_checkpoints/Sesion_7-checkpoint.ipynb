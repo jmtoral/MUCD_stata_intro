{
 "cells": [
  {
   "cell_type": "code",
   "execution_count": 2,
   "id": "5a7be14c",
   "metadata": {},
   "outputs": [
    {
     "name": "stdout",
     "output_type": "stream",
     "text": [
      "C:\\Users\\User\\Documents\\MUCD_stata_intro\\Sesion_7\n"
     ]
    }
   ],
   "source": [
    "*=====================================================================\n",
    "\n",
    "// PROYECTO: Séptima sesión introductoria a STATA\n",
    "// PROGRAMA: sesion_7.do\n",
    "// TAREA: \n",
    "// CREADO POR: Manuel Toral\n",
    "// FECHA DE CREACIÓN: 2022-08-03\n",
    "// FECHA DE ACTUALIZACIÓN: 2022-08-03\n",
    "\n",
    "*========================================================================\n",
    "cd \"C:\\Users\\User\\Documents\\MUCD_stata_intro\\Sesion_7\""
   ]
  },
  {
   "cell_type": "code",
   "execution_count": null,
   "id": "014c1680",
   "metadata": {},
   "outputs": [],
   "source": [
    "log using \"logs_notebooks\\log_sesion7.smcl\", text replace name(sesion7)"
   ]
  },
  {
   "cell_type": "code",
   "execution_count": 5,
   "id": "2b47ea76",
   "metadata": {},
   "outputs": [
    {
     "name": "stdout",
     "output_type": "stream",
     "text": [
      "\n",
      "(19 vars, 25,088 obs)\n",
      "\n",
      "\n",
      "                              Modalidad |      Freq.     Percent        Cum.\n",
      "----------------------------------------+-----------------------------------\n",
      "                          Con violencia |        256       50.00       50.00\n",
      "                          Sin violencia |        256       50.00      100.00\n",
      "----------------------------------------+-----------------------------------\n",
      "                                  Total |        512      100.00\n",
      "\n"
     ]
    }
   ],
   "source": [
    "// 1. Datos\n",
    "import delimited \"data\\IDEFC_NM_jun22.csv\", clear\n",
    "\n",
    "tab modalidad if subtipodedelito == \"Robo a casa habitación\"\n",
    "\n",
    "collapse (sum) enero-diciembre, by(año modalidad)"
   ]
  },
  {
   "cell_type": "code",
   "execution_count": null,
   "id": "242a79bc",
   "metadata": {},
   "outputs": [],
   "source": [
    "%browse"
   ]
  },
  {
   "cell_type": "code",
   "execution_count": null,
   "id": "665232fc",
   "metadata": {},
   "outputs": [],
   "source": []
  }
 ],
 "metadata": {
  "kernelspec": {
   "display_name": "Stata",
   "language": "stata",
   "name": "stata"
  },
  "language_info": {
   "codemirror_mode": "stata",
   "file_extension": ".do",
   "mimetype": "text/x-stata",
   "name": "stata",
   "version": "15.1"
  }
 },
 "nbformat": 4,
 "nbformat_minor": 5
}
