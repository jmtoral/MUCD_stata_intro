{
 "cells": [
  {
   "cell_type": "markdown",
   "id": "9a8226f9",
   "metadata": {},
   "source": [
    "#  Tarea 3\n",
    "\n",
    "Esta tercera tarea será, *no podía saberse*, sobre el código que aprendimos la semana pasada. Así que la idea es hacer una serie de gráficas desde la tabal deincidencia delictiva a nivel estatal del [Secretariado Ejecutivo del Sistema Nacional de Seguridad Publica](https://drive.google.com/file/d/1wMkk0DNh1vdCC9P_cUleNtoH6mmd2FOp/view?usp=sharing). \n",
    "\n",
    "Imagina que te asignaron observar el comportamiento en el tiempo de ciertos delitos antes y después de la *Jornada Nacional de Sana Distancia*, iniciada el 23 de marzo de 2020. El primero de esos delitos es *Robo a transeúnte en espacio abierto al público con violencia*. Con base en una gráfica, tienes que mostrar si hubo una tendencia con base en las sumas mensuales de dicho delito a nivel nacional.  "
   ]
  },
  {
   "cell_type": "markdown",
   "id": "fc3a3d33",
   "metadata": {},
   "source": [
    "## 1. Establece el encabezado de tu script\n",
    "\n",
    "Establece, como siempre. el encabezado de tu `do`."
   ]
  },
  {
   "cell_type": "code",
   "execution_count": null,
   "id": "683eb1d7",
   "metadata": {},
   "outputs": [],
   "source": [
    "* =======================================================================\n",
    "\n",
    "// PROYECTO: \n",
    "// PROGRAMA: \n",
    "// TAREA: \n",
    "// CREADO POR: \n",
    "// FECHA DE CREACIÓN: \n",
    "// FECHA DE ACTUALIZACIÓN: \n",
    "\n",
    "* ========================================================================="
   ]
  },
  {
   "cell_type": "markdown",
   "id": "505fed95",
   "metadata": {},
   "source": [
    "## 2. Establece tu setup\n",
    "\n",
    "Las características que deseas en tu script y crea tu log para registrar tus resultados."
   ]
  },
  {
   "cell_type": "code",
   "execution_count": null,
   "id": "5c7bf7b6",
   "metadata": {},
   "outputs": [],
   "source": [
    "cd \"C:\\Users\\Tu\\Ruta\\\"\n",
    "\n",
    "// Versión difícil: Crea un proyecto. Utiliza : https://www.stata.com/manuals/pprojectmanager.pdf\n",
    "//  o https://www.youtube.com/watch?v=ppw_Z0qH3q8 y configúralo para compartirlo.\n",
    "\n",
    "log using \"tu_carpeta_de_logs\\tu_nombre.smcl\", text replace name(sesion6)"
   ]
  },
  {
   "cell_type": "markdown",
   "id": "b4019d96",
   "metadata": {},
   "source": [
    "## 3. Lee los datos del archivo IDEFC_NM_jun22.csv\n",
    "\n",
    "Importa el archivo *CSV* desde la ubicación en tu carpeta de trabajo."
   ]
  },
  {
   "cell_type": "code",
   "execution_count": null,
   "id": "4222dc2e",
   "metadata": {},
   "outputs": [],
   "source": [
    "* RESPUESTA 1 ============================================================\n",
    "\n",
    "\n",
    "\n",
    "* ======================================================================="
   ]
  },
  {
   "cell_type": "markdown",
   "id": "1e2c7b0c",
   "metadata": {},
   "source": [
    "## 4. Transforma y limpia\n",
    "\n",
    "1. Filtra la base y conseva sólo el subtipo de delito y modalidad que definen \"Robo a transeúnte en espacio abierto al público con violencia\".\n",
    "2. Colapsa por año todas las variables mensuales (de enero a diciembre), sumando las variables de enero a diciembre por año.\n",
    "3. Renombra todas las variables de enero a diciembre de tal forma que haya 12 variables que se llamen \"delito#\" donde \"#\" sea un número del 1 al 12 que representa cada mes. Así, *delito01* es el nombre de la variable que antes se llamaba \"enero\".\n",
    "4. Genera una variable de identificación llama \"id\" que asigne un número a cada observación.\n"
   ]
  },
  {
   "cell_type": "code",
   "execution_count": null,
   "id": "0d4c7ec4",
   "metadata": {},
   "outputs": [],
   "source": [
    "* RESPUESTA 2 ============================================================\n",
    "\n",
    "\n",
    "\n",
    "* ======================================================================="
   ]
  },
  {
   "cell_type": "markdown",
   "id": "5d23e225",
   "metadata": {},
   "source": [
    "## 5. Convertir de wide a long\n",
    "\n",
    "Utiliza `reshape` para tranformar la base *wide* en *long*."
   ]
  },
  {
   "cell_type": "code",
   "execution_count": null,
   "id": "6df749d7",
   "metadata": {},
   "outputs": [],
   "source": [
    "* RESPUESTA 3 ============================================================\n",
    "\n",
    "\n",
    "\n",
    "* ======================================================================="
   ]
  },
  {
   "cell_type": "markdown",
   "id": "48cf8851",
   "metadata": {},
   "source": [
    "##  6. Crea una variable de fecha\n",
    "\n",
    "1. Genera una vairable llamada *dia* con sólo el número 1.\n",
    "2. Genera una variable llamada *fecha* con el comando `mdy`.\n",
    "3. Cambia el formato de *fecha* a tres letras del mes y dos dígitos del año. Por ejemplo: \"Jan-15\" para enero de 2015."
   ]
  },
  {
   "cell_type": "code",
   "execution_count": null,
   "id": "981a8d75",
   "metadata": {},
   "outputs": [],
   "source": [
    "* RESPUESTA 4 ============================================================\n",
    "\n",
    "\n",
    "\n",
    "* ======================================================================="
   ]
  },
  {
   "cell_type": "markdown",
   "id": "eaaa5419",
   "metadata": {},
   "source": [
    "## 7. Filtra los datos innecesarios\n",
    "\n",
    "Por la naturaleza de la tabla, los datos depsués de junio de 2022 son codificados como 0. Esos no nos sirven. "
   ]
  },
  {
   "cell_type": "code",
   "execution_count": null,
   "id": "4bc39b13",
   "metadata": {},
   "outputs": [],
   "source": [
    "* RESPUESTA 5 ============================================================\n",
    "\n",
    "\n",
    "\n",
    "* ======================================================================="
   ]
  },
  {
   "cell_type": "markdown",
   "id": "269b9508",
   "metadata": {},
   "source": [
    "## 8. Haz una gráfica\n",
    "\n",
    "1. Busca el número que representa la fecha del 23 de marzo de 2020.\n",
    "2. Utiliza `twoway line` para hacer una gráfica y pon una línea vertical el día del inicio de la Jornada de Sana Distancia.\n",
    "3. No olvides poner títulos, subtítulos, nombres de ejes y referencias."
   ]
  }
 ],
 "metadata": {
  "kernelspec": {
   "display_name": "Stata",
   "language": "stata",
   "name": "stata"
  },
  "language_info": {
   "codemirror_mode": "stata",
   "file_extension": ".do",
   "mimetype": "text/x-stata",
   "name": "stata",
   "version": "15.1"
  }
 },
 "nbformat": 4,
 "nbformat_minor": 5
}
