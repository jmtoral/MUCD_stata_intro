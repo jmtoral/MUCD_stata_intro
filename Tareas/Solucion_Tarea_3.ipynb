{
 "cells": [
  {
   "cell_type": "code",
   "execution_count": 1,
   "id": "1c28fa5e",
   "metadata": {},
   "outputs": [
    {
     "name": "stdout",
     "output_type": "stream",
     "text": [
      "C:\\Users\\User\\Documents\\MUCD_stata_intro\\Sesion_6\n"
     ]
    }
   ],
   "source": [
    "*=====================================================================\n",
    "\n",
    "// PROYECTO: Respuesta a la Tarea 3\n",
    "// PROGRAMA: solucion_3.do\n",
    "// TAREA: De long a wide\n",
    "// CREADO POR: Manuel Toral\n",
    "// FECHA DE CREACIÓN: 2022-08-02\n",
    "// FECHA DE ACTUALIZACIÓN: 2022-08-02\n",
    "\n",
    "*========================================================================\n",
    "cd \"C:\\Users\\User\\Documents\\MUCD_stata_intro\\Sesion_6\"\n"
   ]
  },
  {
   "cell_type": "code",
   "execution_count": null,
   "id": "11314c87",
   "metadata": {},
   "outputs": [],
   "source": [
    "log using \"logs_notebooks\\log_sesion5.smcl\", text replace name(sesion6)"
   ]
  },
  {
   "cell_type": "code",
   "execution_count": 2,
   "id": "d5e964bd",
   "metadata": {},
   "outputs": [
    {
     "name": "stdout",
     "output_type": "stream",
     "text": [
      "(19 vars, 25,088 obs)\n"
     ]
    }
   ],
   "source": [
    "// 1. Datos\n",
    "import delimited \"data\\IDEFC_NM_jun22.csv\", clear"
   ]
  },
  {
   "cell_type": "code",
   "execution_count": null,
   "id": "185efc09",
   "metadata": {},
   "outputs": [],
   "source": []
  }
 ],
 "metadata": {
  "kernelspec": {
   "display_name": "Stata",
   "language": "stata",
   "name": "stata"
  },
  "language_info": {
   "codemirror_mode": "stata",
   "file_extension": ".do",
   "mimetype": "text/x-stata",
   "name": "stata",
   "version": "15.1"
  }
 },
 "nbformat": 4,
 "nbformat_minor": 5
}
