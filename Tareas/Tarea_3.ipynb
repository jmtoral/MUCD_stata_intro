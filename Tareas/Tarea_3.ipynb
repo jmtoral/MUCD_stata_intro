{
 "cells": [
  {
   "cell_type": "markdown",
   "id": "e724c675",
   "metadata": {},
   "source": [
    "#  Tarea 3\n",
    "\n",
    "Esta tercera tarea será, *no podía saberse*, sobre el código que aprendimos la semana pasada. Así que la idea es hacer una serie de gráficas desde la tabal deincidencia delictiva a nivel estatal del [Secretariado Ejecutivo del Sistema Nacional de Seguridad Publica](https://drive.google.com/file/d/1wMkk0DNh1vdCC9P_cUleNtoH6mmd2FOp/view?usp=sharing). \n",
    "\n",
    "Imagina que te asignaron observar el comportamiento en el tiempo de ciertos delitos antes y después de la *Jornada Nacional de Sana Distancia*, iniciada el 23 de marzo de 2020. El primero de esos delitos es *Robo a transeúnte en espacio abierto al público con violencia*. Con base en una gráfica, tienes que mostrar si hubo una tendencia con base en las sumas mensuales de dicho delito a nivel nacional.  "
   ]
  },
  {
   "cell_type": "markdown",
   "id": "648a5660",
   "metadata": {},
   "source": [
    "## Establece el encabezado de tu script\n",
    "\n",
    "Establece, como siempre. el encabezado de tu `do`."
   ]
  },
  {
   "cell_type": "code",
   "execution_count": null,
   "id": "eb1b1fb9",
   "metadata": {},
   "outputs": [],
   "source": [
    "* =======================================================================\n",
    "\n",
    "// PROYECTO: \n",
    "// PROGRAMA: \n",
    "// TAREA: \n",
    "// CREADO POR: \n",
    "// FECHA DE CREACIÓN: \n",
    "// FECHA DE ACTUALIZACIÓN: \n",
    "\n",
    "* ========================================================================="
   ]
  },
  {
   "cell_type": "markdown",
   "id": "dda3fe83",
   "metadata": {},
   "source": [
    "## Establece tu setup\n",
    "\n",
    "Las características que deseas en tu script y crea tu log para registrar tus resultados."
   ]
  },
  {
   "cell_type": "code",
   "execution_count": null,
   "id": "04c87d0c",
   "metadata": {},
   "outputs": [],
   "source": [
    "cd \"C:\\Users\\Tu\\Ruta\\\"\n",
    "\n",
    "// Versión difícil: Crea un proyecto. Utiliza : https://www.stata.com/manuals/pprojectmanager.pdf\n",
    "//  o https://www.youtube.com/watch?v=ppw_Z0qH3q8 y configúralo para compartirlo.\n",
    "\n",
    "log using \"tu_carpeta_de_logs\\tu_nombre.smcl\", text replace name(sesion6)"
   ]
  },
  {
   "cell_type": "markdown",
   "id": "573e03e8",
   "metadata": {},
   "source": [
    "## Lee los datos del archivo IDEFC_NM_jun22.csv\n",
    "\n",
    "Importa el archivo *CSV* desde la ubicación en tu carpeta de trabajo."
   ]
  },
  {
   "cell_type": "code",
   "execution_count": null,
   "id": "ae717aa5",
   "metadata": {},
   "outputs": [],
   "source": [
    "* RESPUESTA 1 ============================================================\n",
    "\n",
    "\n",
    "\n",
    "* ======================================================================="
   ]
  },
  {
   "cell_type": "markdown",
   "id": "e4290069",
   "metadata": {},
   "source": [
    "## Transforma y limpia\n",
    "\n",
    "1. Filtra la base y conseva sólo el subtipo de delito y modalidad que definen \"Robo a transeúnte en espacio abierto al público con violencia\".\n",
    "2. Colapsa por año todas las variables mensuales (de enero a diciembre), sumando las variables de enero a diciembre por año.\n",
    "3. Renombra todas las variables de enero a diciembre de tal forma que haya 12 variables que se llamen \"delito#\" donde \"#\" sea un número del 1 al 12 que representa cada mes. Así, *delito01* es el nombre de la variable que antes se llamaba \"enero\".\n",
    "4. Genera una variable de identificación llama \"id\" que asigne un número a cada observación.\n"
   ]
  },
  {
   "cell_type": "code",
   "execution_count": null,
   "id": "4a1a81be",
   "metadata": {},
   "outputs": [],
   "source": [
    "* RESPUESTA 2 ============================================================\n",
    "\n",
    "\n",
    "\n",
    "* ======================================================================="
   ]
  },
  {
   "cell_type": "markdown",
   "id": "4ef2e1d0",
   "metadata": {},
   "source": [
    "## Convertir de wide a long\n",
    "\n",
    "Utiliza `reshape` para tranformar la base *wide* en *long*."
   ]
  },
  {
   "cell_type": "code",
   "execution_count": null,
   "id": "6a3e6c1f",
   "metadata": {},
   "outputs": [],
   "source": [
    "* RESPUESTA 3 ============================================================\n",
    "\n",
    "\n",
    "\n",
    "* ======================================================================="
   ]
  },
  {
   "cell_type": "markdown",
   "id": "80a30909",
   "metadata": {},
   "source": [
    "##  Crea una variable de fecha\n",
    "\n",
    "1. Genera una vairable llamada *dia* con sólo el número 1.\n",
    "2. Genera una variable llamada *fecha* con el comando `mdy`.\n",
    "3. Cambia el formato de *fecha* a tres letras del mes y dos dígitos del año. Por ejemplo: \"Jan-15\" para enero de 2015."
   ]
  },
  {
   "cell_type": "code",
   "execution_count": null,
   "id": "c121003a",
   "metadata": {},
   "outputs": [],
   "source": [
    "* RESPUESTA 4 ============================================================\n",
    "\n",
    "\n",
    "\n",
    "* ======================================================================="
   ]
  },
  {
   "cell_type": "markdown",
   "id": "507bdd80",
   "metadata": {},
   "source": [
    "## Filtra los datos innecesarios\n",
    "\n",
    "Por la naturaleza de la tabla, los datos depsués de junio de 2022 son codificados como 0. Esos no nos sirven. "
   ]
  },
  {
   "cell_type": "code",
   "execution_count": null,
   "id": "aa644031",
   "metadata": {},
   "outputs": [],
   "source": [
    "* RESPUESTA 5 ============================================================\n",
    "\n",
    "\n",
    "\n",
    "* ======================================================================="
   ]
  },
  {
   "cell_type": "markdown",
   "id": "5cab5cc1",
   "metadata": {},
   "source": [
    "## Haz una gráfica\n",
    "\n",
    "1. Busca el número que representa la fecha del 23 de marzo de 2020.\n",
    "2. Utiliza `twoway line` para hacer una gráfica y pon una línea vertical el día del inicio de la Jornada de Sana Distancia.\n",
    "3. No olvides poner títulos, subtítulos, nombres de ejes y referencias."
   ]
  }
 ],
 "metadata": {
  "kernelspec": {
   "display_name": "Stata",
   "language": "stata",
   "name": "stata"
  },
  "language_info": {
   "codemirror_mode": "stata",
   "file_extension": ".do",
   "mimetype": "text/x-stata",
   "name": "stata",
   "version": "15.1"
  }
 },
 "nbformat": 4,
 "nbformat_minor": 5
}
