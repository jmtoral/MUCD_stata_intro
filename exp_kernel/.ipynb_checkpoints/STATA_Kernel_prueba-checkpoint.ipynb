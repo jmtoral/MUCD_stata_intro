{
 "cells": [
  {
   "cell_type": "code",
   "execution_count": 1,
   "id": "952fcf23",
   "metadata": {},
   "outputs": [
    {
     "name": "stdout",
     "output_type": "stream",
     "text": [
      "Hola Mundo, ¿me creían muertx? ¡Jamás! Soy STATA FTW\n"
     ]
    }
   ],
   "source": [
    "display \"Hola Mundo, ¿me creían muertx? ¡Jamás! Soy STATA FTW\""
   ]
  },
  {
   "cell_type": "code",
   "execution_count": null,
   "id": "9e8fedd8",
   "metadata": {},
   "outputs": [],
   "source": []
  }
 ],
 "metadata": {
  "kernelspec": {
   "display_name": "Stata",
   "language": "stata",
   "name": "stata"
  },
  "language_info": {
   "codemirror_mode": "stata",
   "file_extension": ".do",
   "mimetype": "text/x-stata",
   "name": "stata",
   "version": "15.1"
  }
 },
 "nbformat": 4,
 "nbformat_minor": 5
}
