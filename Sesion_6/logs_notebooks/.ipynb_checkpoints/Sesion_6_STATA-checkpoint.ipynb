{
 "cells": [
  {
   "cell_type": "markdown",
   "id": "85ac4594",
   "metadata": {},
   "source": [
    "# Sesión 6 de Stata\n",
    "\n",
    "En la sesión 6 utilizamos la sección 5 para hacer gráficas."
   ]
  },
  {
   "cell_type": "markdown",
   "id": "7e2f76e7",
   "metadata": {},
   "source": [
    "## Setup\n",
    "\n",
    "Como siempre, haremos un *do file* con su respectivo setup y nuestro (ahora obsoleto) *log*."
   ]
  },
  {
   "cell_type": "code",
   "execution_count": 8,
   "id": "d73df376",
   "metadata": {},
   "outputs": [
    {
     "name": "stdout",
     "output_type": "stream",
     "text": [
      "\n",
      "C:\\Users\\User\\Documents\\MUCD_stata_intro\\Sesion_6\n",
      "\n",
      "file\n",
      "    C:\\Users\\User\\Documents\\MUCD_stata_intro\\Sesion_6\\logs_notebooks\\log_sesio\n",
      "    > n6.smcl cannot be modified or erased; likely cause is read-only\n",
      "    directory or file\n"
     ]
    },
    {
     "name": "stderr",
     "output_type": "stream",
     "text": [
      "r(608);\n",
      "r(608);\n"
     ]
    },
    {
     "name": "stdout",
     "output_type": "stream",
     "text": [
      "\n",
      "\n"
     ]
    }
   ],
   "source": [
    "*=====================================================================\n",
    "\n",
    "// PROYECTO: Quinta introductoria a STATA\n",
    "// PROGRAMA: sesion_6.do\n",
    "// TAREA: De long a wide\n",
    "// CREADO POR: Manuel Toral\n",
    "// FECHA DE CREACIÓN: 2022-07-29\n",
    "// FECHA DE ACTUALIZACIÓN: 2022-08-01\n",
    "\n",
    "*========================================================================\n",
    "cd \"C:\\Users\\User\\Documents\\MUCD_stata_intro\\Sesion_6\"\n",
    "//log close sesion6\n",
    "log using \"logs_notebooks\\log_sesion6.smcl\", text replace name(sesion6)"
   ]
  },
  {
   "cell_type": "markdown",
   "id": "835de696",
   "metadata": {},
   "source": [
    "# Datos\n",
    "\n",
    "Vamos a usar los datos de incidencia delictiva del Secretariado, para no perder la costumbre."
   ]
  },
  {
   "cell_type": "code",
   "execution_count": null,
   "id": "f85a901d",
   "metadata": {},
   "outputs": [],
   "source": [
    "// 1. Datos\n",
    "import delimited \"data\\IDEFC_NM_jun22.csv\", clear"
   ]
  },
  {
   "cell_type": "code",
   "execution_count": null,
   "id": "373998df",
   "metadata": {},
   "outputs": [],
   "source": [
    "list in 1"
   ]
  },
  {
   "cell_type": "code",
   "execution_count": null,
   "id": "7d81ce71",
   "metadata": {},
   "outputs": [],
   "source": [
    "// 2. Transformaciones y limpieza\n",
    "\n",
    "//tab modalidad\n",
    "//tab subtipodedelito\n",
    "\n",
    "// 2.1 Conserva sólo el subtipo de delito y modalidad que definen \"Homicidio doloso con arema de fuego\"\n",
    "\n",
    "tab modalidad if subtipodedelito == \"Robo a casa habitación\"\n",
    "\n",
    "keep if subtipodedelito == \"Robo a casa habitación\" \n",
    "//& modalidad == \"Con violencia\"\n",
    "\n",
    "\n"
   ]
  },
  {
   "cell_type": "code",
   "execution_count": null,
   "id": "3028bb9a",
   "metadata": {},
   "outputs": [],
   "source": [
    "collapse (sum) enero-diciembre, by(año)\n",
    "d"
   ]
  },
  {
   "cell_type": "code",
   "execution_count": null,
   "id": "76fb44b0",
   "metadata": {},
   "outputs": [],
   "source": [
    "// 3. Convertir de wide a long\n",
    "\n",
    "rename (enero-diciembre) (robocasahab(#)) ,addnumber\n",
    "\n",
    "gen id = _n\n",
    "\n",
    "reshape long robocasahab, i(id) j(mes)\n",
    "\n",
    "d\n",
    "\n",
    "//reshape wide homicidios, i(id) j(mes)\n",
    "\n",
    "//d\n"
   ]
  },
  {
   "cell_type": "code",
   "execution_count": null,
   "id": "bc81c5f5",
   "metadata": {},
   "outputs": [],
   "source": [
    "gen dia = 1"
   ]
  },
  {
   "cell_type": "code",
   "execution_count": null,
   "id": "a0ae2650",
   "metadata": {},
   "outputs": [],
   "source": [
    "%browse"
   ]
  },
  {
   "cell_type": "code",
   "execution_count": null,
   "id": "408ccc74",
   "metadata": {},
   "outputs": [],
   "source": [
    "gen edate = mdy(mes, dia, año)\n",
    "\n",
    "format edate %dM-Y\n",
    "\n",
    "format edate %dm-y // Mejor formato"
   ]
  },
  {
   "cell_type": "code",
   "execution_count": null,
   "id": "3250d0cb",
   "metadata": {},
   "outputs": [],
   "source": [
    "// 5. Filtrar los datos necesarios\n",
    "\n",
    "drop if robocasahab == 0"
   ]
  },
  {
   "cell_type": "code",
   "execution_count": null,
   "id": "be13d67a",
   "metadata": {},
   "outputs": [],
   "source": [
    "di td(20mar2020)\n",
    "twoway line robocasahab edate, xline(21975) title(Robo a casa habitación de 2015 a 2020) ///\n",
    "subtitle(\"suma total por periodo mensual, con y sin violencia\") ytitle(Total de robos) ///\n",
    "xtitle(Mes y Año) caption(Fuente: SESNSP)"
   ]
  },
  {
   "cell_type": "code",
   "execution_count": 3,
   "id": "6f2d232c",
   "metadata": {},
   "outputs": [
    {
     "name": "stdout",
     "output_type": "stream",
     "text": [
      "log sesion6 not found\n"
     ]
    },
    {
     "name": "stderr",
     "output_type": "stream",
     "text": [
      "r(111);\n"
     ]
    },
    {
     "name": "stdout",
     "output_type": "stream",
     "text": [
      "\n"
     ]
    }
   ],
   "source": [
    "log close sesion6"
   ]
  }
 ],
 "metadata": {
  "kernelspec": {
   "display_name": "Stata",
   "language": "stata",
   "name": "stata"
  },
  "language_info": {
   "codemirror_mode": "stata",
   "file_extension": ".do",
   "mimetype": "text/x-stata",
   "name": "stata",
   "version": "15.1"
  }
 },
 "nbformat": 4,
 "nbformat_minor": 5
}
